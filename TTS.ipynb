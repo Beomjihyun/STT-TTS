{
  "nbformat": 4,
  "nbformat_minor": 0,
  "metadata": {
    "colab": {
      "provenance": [],
      "authorship_tag": "ABX9TyNEoUHVVfleS/dO2FgL2MDl",
      "include_colab_link": true
    },
    "kernelspec": {
      "name": "python3",
      "display_name": "Python 3"
    },
    "language_info": {
      "name": "python"
    }
  },
  "cells": [
    {
      "cell_type": "markdown",
      "metadata": {
        "id": "view-in-github",
        "colab_type": "text"
      },
      "source": [
        "<a href=\"https://colab.research.google.com/github/Beomjihyun/STT-TTS/blob/main/TTS.ipynb\" target=\"_parent\"><img src=\"https://colab.research.google.com/assets/colab-badge.svg\" alt=\"Open In Colab\"/></a>"
      ]
    },
    {
      "cell_type": "code",
      "source": [
        "!pip install gtts"
      ],
      "metadata": {
        "colab": {
          "base_uri": "https://localhost:8080/"
        },
        "id": "efPsU6oiG1gv",
        "outputId": "8622fc2b-b099-49ce-b442-2b59435be896"
      },
      "execution_count": null,
      "outputs": [
        {
          "output_type": "stream",
          "name": "stdout",
          "text": [
            "Looking in indexes: https://pypi.org/simple, https://us-python.pkg.dev/colab-wheels/public/simple/\n",
            "Collecting gtts\n",
            "  Downloading gTTS-2.3.2-py3-none-any.whl (28 kB)\n",
            "Requirement already satisfied: requests<3,>=2.27 in /usr/local/lib/python3.10/dist-packages (from gtts) (2.27.1)\n",
            "Requirement already satisfied: click<8.2,>=7.1 in /usr/local/lib/python3.10/dist-packages (from gtts) (8.1.3)\n",
            "Requirement already satisfied: urllib3<1.27,>=1.21.1 in /usr/local/lib/python3.10/dist-packages (from requests<3,>=2.27->gtts) (1.26.15)\n",
            "Requirement already satisfied: certifi>=2017.4.17 in /usr/local/lib/python3.10/dist-packages (from requests<3,>=2.27->gtts) (2022.12.7)\n",
            "Requirement already satisfied: charset-normalizer~=2.0.0 in /usr/local/lib/python3.10/dist-packages (from requests<3,>=2.27->gtts) (2.0.12)\n",
            "Requirement already satisfied: idna<4,>=2.5 in /usr/local/lib/python3.10/dist-packages (from requests<3,>=2.27->gtts) (3.4)\n",
            "Installing collected packages: gtts\n",
            "Successfully installed gtts-2.3.2\n"
          ]
        }
      ]
    },
    {
      "cell_type": "code",
      "source": [
        "!pip install pydub"
      ],
      "metadata": {
        "colab": {
          "base_uri": "https://localhost:8080/"
        },
        "id": "B3oCxE-KR20v",
        "outputId": "26b26910-113a-429e-ed35-5541665341e5"
      },
      "execution_count": null,
      "outputs": [
        {
          "output_type": "stream",
          "name": "stdout",
          "text": [
            "Looking in indexes: https://pypi.org/simple, https://us-python.pkg.dev/colab-wheels/public/simple/\n",
            "Collecting pydub\n",
            "  Downloading pydub-0.25.1-py2.py3-none-any.whl (32 kB)\n",
            "Installing collected packages: pydub\n",
            "Successfully installed pydub-0.25.1\n"
          ]
        }
      ]
    },
    {
      "cell_type": "code",
      "source": [
        "!pip install sounddevice"
      ],
      "metadata": {
        "colab": {
          "base_uri": "https://localhost:8080/"
        },
        "id": "hds1cginSzh7",
        "outputId": "4ddcbf39-e933-471e-dff4-88b43525591e"
      },
      "execution_count": null,
      "outputs": [
        {
          "output_type": "stream",
          "name": "stdout",
          "text": [
            "Looking in indexes: https://pypi.org/simple, https://us-python.pkg.dev/colab-wheels/public/simple/\n",
            "Collecting sounddevice\n",
            "  Downloading sounddevice-0.4.6-py3-none-any.whl (31 kB)\n",
            "Requirement already satisfied: CFFI>=1.0 in /usr/local/lib/python3.10/dist-packages (from sounddevice) (1.15.1)\n",
            "Requirement already satisfied: pycparser in /usr/local/lib/python3.10/dist-packages (from CFFI>=1.0->sounddevice) (2.21)\n",
            "Installing collected packages: sounddevice\n",
            "Successfully installed sounddevice-0.4.6\n"
          ]
        }
      ]
    },
    {
      "cell_type": "code",
      "source": [
        "from gtts import gTTS\n",
        "from IPython.display import Audio, display\n",
        "\n",
        "# TTS를 생성할 텍스트\n",
        "text = \"tts 완료 했습니다.\"\n",
        "\n",
        "# gTTS 객체 생성\n",
        "tts = gTTS(text=text, lang='ko')\n",
        "\n",
        "# MP3 파일로 변환\n",
        "tts.save(\"output.mp3\")\n",
        "\n",
        "# MP3 파일 재생\n",
        "display(Audio(\"output.mp3\", autoplay=True))"
      ],
      "metadata": {
        "colab": {
          "base_uri": "https://localhost:8080/",
          "height": 74
        },
        "id": "Qi5o5sm2Gwlz",
        "outputId": "6cd17e4f-6a19-4e22-ae2c-b90c966e94f3"
      },
      "execution_count": null,
      "outputs": [
        {
          "output_type": "display_data",
          "data": {
            "text/plain": [
              "<IPython.lib.display.Audio object>"
            ],
            "text/html": [
              "\n",
              "                <audio  controls=\"controls\" autoplay=\"autoplay\">\n",
              "                    <source src=\"data:audio/mpeg;base64,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\" type=\"audio/mpeg\" />\n",
              "                    Your browser does not support the audio element.\n",
              "                </audio>\n",
              "              "
            ]
          },
          "metadata": {}
        }
      ]
    }
  ]
}